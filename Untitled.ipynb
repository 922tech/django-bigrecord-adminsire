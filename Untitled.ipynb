{
 "cells": [
  {
   "cell_type": "code",
   "execution_count": 8,
   "id": "ae2d7c22-65ca-41d1-9c54-8af4171debbf",
   "metadata": {},
   "outputs": [],
   "source": [
    "from math import log\n",
    "# BST\n",
    "\n",
    "l = list(range(109))\n",
    "\n",
    "class Node:\n",
    "    def __init__(self, key):\n",
    "        self.key = key\n",
    "        self.right = None\n",
    "        self.left = None\n",
    "        \n",
    "    def __repr__(self):\n",
    "        return f'<class Node key={repr(self.key)} right={repr(self.right)} left={repr(self.left)}>'\n",
    "\n",
    "    def __str__(self):\n",
    "        return f'''\n",
    "     {self.key}\n",
    "    / \\\\\n",
    "{str(self.left)}  {str(self.right)}\n",
    "            '''\n"
   ]
  },
  {
   "cell_type": "code",
   "execution_count": 90,
   "id": "96096821-fe9e-43ab-81b5-dc0a6e6f83ed",
   "metadata": {},
   "outputs": [],
   "source": [
    "log(len(l))\n",
    "\n",
    "i = 0\n",
    "nodes = []\n",
    "\n",
    "\n",
    "def create_node(key,node=None):\n",
    "    \n",
    "    if node is None:\n",
    "        n = Node(key)\n",
    "        c = nodes.append(n)\n",
    "        # print('node created')\n",
    "        return n\n",
    "\n",
    "    if key > node.key:\n",
    "        n = create_node( key, node.right,)\n",
    "        nodes.append(n)\n",
    "        node.right = n\n",
    "        # print(f'node {n} inserted at right of {node}')\n",
    "    elif key < node.key:\n",
    "        n = create_node(key, node.left,)\n",
    "        nodes.append(n)\n",
    "        node.left =  n\n",
    "        # print(f'node {n} inserted at left of {node}')"
   ]
  },
  {
   "cell_type": "code",
   "execution_count": 96,
   "id": "c88fb0aa-0963-4a73-9fa1-bdf5ac9f709d",
   "metadata": {},
   "outputs": [
    {
     "data": {
      "text/plain": [
       "[<class Node key=1 right=<class Node key=2 right=None left=None> left=None>,\n",
       " <class Node key=1 right=<class Node key=2 right=None left=None> left=None>,\n",
       " <class Node key=2 right=None left=None>,\n",
       " <class Node key=2 right=None left=None>,\n",
       " None,\n",
       " <class Node key=1 right=None left=None>,\n",
       " <class Node key=1 right=None left=None>,\n",
       " <class Node key=23 right=None left=None>,\n",
       " <class Node key=23 right=None left=None>]"
      ]
     },
     "execution_count": 96,
     "metadata": {},
     "output_type": "execute_result"
    }
   ],
   "source": [
    "r = Node(l[5])\n",
    "create_node(l[1],r)\n",
    "create_node(l[7],r)\n",
    "nodes"
   ]
  },
  {
   "cell_type": "code",
   "execution_count": 98,
   "id": "47c33335-c118-4330-891f-64fa4d00995a",
   "metadata": {},
   "outputs": [
    {
     "data": {
      "text/plain": [
       "[<class Node key=1 right=<class Node key=2 right=None left=None> left=None>,\n",
       " <class Node key=1 right=<class Node key=2 right=None left=None> left=None>,\n",
       " <class Node key=2 right=None left=None>,\n",
       " <class Node key=2 right=None left=None>,\n",
       " None,\n",
       " <class Node key=1 right=None left=None>,\n",
       " <class Node key=1 right=None left=None>,\n",
       " <class Node key=23 right=None left=None>,\n",
       " <class Node key=23 right=None left=None>]"
      ]
     },
     "execution_count": 98,
     "metadata": {},
     "output_type": "execute_result"
    }
   ],
   "source": [
    "# for i in nodes:\n",
    "#     print(i)\n",
    "nodes"
   ]
  },
  {
   "cell_type": "code",
   "execution_count": null,
   "id": "534c41a7-b3cb-48a3-84cb-cea3f46c87ba",
   "metadata": {},
   "outputs": [],
   "source": [
    "r = create_node(l[0])\n",
    "\n",
    "for i in l:\n",
    "    if l.index(i) == 0:\n",
    "        r = create_node(l[0])\n",
    "        \n",
    "    create_node(nodes)"
   ]
  },
  {
   "cell_type": "code",
   "execution_count": 170,
   "id": "3b41ee01-0686-46cd-a785-027fb2e0eed4",
   "metadata": {},
   "outputs": [
    {
     "name": "stdout",
     "output_type": "stream",
     "text": [
      "\n",
      "     0\n",
      "    / \\\n",
      "None  \n",
      "     1\n",
      "    / \\\n",
      "None  None\n",
      "            \n",
      "            \n"
     ]
    }
   ],
   "source": [
    "r = create_node(l[0])\n",
    "create_node(l[1], nodes[0])\n",
    "print(r)"
   ]
  },
  {
   "cell_type": "code",
   "execution_count": 14,
   "id": "19dc083b-0e8f-4f14-92f0-31c4ed306550",
   "metadata": {},
   "outputs": [],
   "source": [
    "def search(node, param):\n",
    "    if node.left is None or node.right is None:\n",
    "        print('Not Found!')\n",
    "        \n",
    "    if node.key == param:\n",
    "        print(f'fount at {repr(node)}')\n",
    "    else:\n",
    "        search(node.right, param)\n",
    "        search(node.left, param)"
   ]
  },
  {
   "cell_type": "code",
   "execution_count": 6,
   "id": "6ebe4ae6-88d1-4ecf-917c-3fe10ac1a5bc",
   "metadata": {},
   "outputs": [],
   "source": [
    "c = [1,2,3,5,6]\n",
    "def binerize(L):\n",
    "    l = L.copy()\n",
    "    while not log(len(l), 2).is_integer():\n",
    "        l.append(None)\n",
    "        # print(len(l))\n",
    "    return log(len(l),2), l\n",
    "\n",
    "# binerize(l)"
   ]
  },
  {
   "cell_type": "code",
   "execution_count": 11,
   "id": "bc54a10d-a52f-4d82-a3e4-ff85cae9e349",
   "metadata": {},
   "outputs": [],
   "source": [
    "b ,L = binerize(l)\n",
    "\n",
    "\n",
    "l = list(range(5000))\n",
    "\n",
    "def balance_nodes(nodes):\n",
    "    return [(i, 2*nodes[0]-i) for i in nodes[:]]\n",
    "\n",
    "\n",
    "def get_tree_matrix(b: int,L: list):\n",
    "    nodes = [int(len(L)/2)]\n",
    "    b = int(log(len(L)))\n",
    "    for i in range(int(b)):\n",
    "        s = int(nodes[-1]/2)\n",
    "        nodes.append(s)\n",
    "        \n",
    "    return nodes\n",
    "\n",
    "\n",
    "t = get_tree_matrix(b, l)\n",
    "Ns = balance_nodes(t)\n",
    "lookup = 3215\n",
    "Ns\n",
    "# for node in Ns:\n",
    "#     if node[0] > lookup:\n",
    "#         if node[1]\n",
    "#     else: \n",
    "#         pass\n",
    "\n",
    "\n",
    "i = 0\n",
    "def search(nodes, param):\n",
    "    state = 0\n",
    "    if nodes[i] > param and nodes[i+1] < param:\n",
    "        i+=1\n",
    "        search(nodes,param)\n",
    "    elif nodes[i] > param and nodes[i+1] < param:\n",
    "        state = 1\n",
    "        search(nodes,param)\n",
    "search()"
   ]
  },
  {
   "cell_type": "code",
   "execution_count": 12,
   "id": "59d09a71-bc61-41c8-9f9c-2d4fae37b6db",
   "metadata": {},
   "outputs": [
    {
     "data": {
      "text/plain": [
       "[(2500, 2500),\n",
       " (1250, 3750),\n",
       " (625, 4375),\n",
       " (312, 4688),\n",
       " (156, 4844),\n",
       " (78, 4922),\n",
       " (39, 4961),\n",
       " (19, 4981),\n",
       " (9, 4991)]"
      ]
     },
     "execution_count": 12,
     "metadata": {},
     "output_type": "execute_result"
    }
   ],
   "source": [
    "Ns"
   ]
  }
 ],
 "metadata": {
  "kernelspec": {
   "display_name": "Python 3 (ipykernel)",
   "language": "python",
   "name": "python3"
  },
  "language_info": {
   "codemirror_mode": {
    "name": "ipython",
    "version": 3
   },
   "file_extension": ".py",
   "mimetype": "text/x-python",
   "name": "python",
   "nbconvert_exporter": "python",
   "pygments_lexer": "ipython3",
   "version": "3.10.12"
  }
 },
 "nbformat": 4,
 "nbformat_minor": 5
}
