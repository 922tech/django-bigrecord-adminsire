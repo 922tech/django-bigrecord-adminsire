{
 "cells": [
  {
   "cell_type": "code",
   "execution_count": 20,
   "id": "ae2d7c22-65ca-41d1-9c54-8af4171debbf",
   "metadata": {},
   "outputs": [],
   "source": [
    "# BST\n",
    "\n",
    "l = [0, 1, 2, 3, 4, 5, 20, 23]\n",
    "\n",
    "class Node:\n",
    "    def __init__(self, key):\n",
    "        self.key = key\n",
    "        self.right = None\n",
    "        self.left = None\n",
    "        \n",
    "    def __repr__(self):\n",
    "        return f'<class Node key={repr(self.key)} right={repr(self.right)} left={repr(self.left)}>'\n",
    "\n",
    "    def __str__(self):\n",
    "        return f'''\n",
    "     {self.key}\n",
    "    / \\\\\n",
    "{str(self.left)}  {str(self.right)}\n",
    "            '''\n"
   ]
  },
  {
   "cell_type": "code",
   "execution_count": 5,
   "id": "96096821-fe9e-43ab-81b5-dc0a6e6f83ed",
   "metadata": {},
   "outputs": [],
   "source": [
    "from math import log\n",
    "log(len(l))\n",
    "\n",
    "i = 0\n",
    "nodes = []\n",
    "\n",
    "\n",
    "def create_node(key,node=None):\n",
    "    \n",
    "    if node is None:\n",
    "        n = Node(key)\n",
    "        c = nodes.append(n)\n",
    "        # print('node created')\n",
    "        return n\n",
    "\n",
    "    if key > node.key:\n",
    "        n = create_node(key,)\n",
    "        nodes.append(n)\n",
    "        node.right = n\n",
    "        # print(f'node {n} inserted at right of {node}')\n",
    "    elif key < node.key:\n",
    "        n = create_node(key,)\n",
    "        nodes.append(n)\n",
    "        node.left =  n\n",
    "        # print(f'node {n} inserted at left of {node}')"
   ]
  },
  {
   "cell_type": "code",
   "execution_count": null,
   "id": "534c41a7-b3cb-48a3-84cb-cea3f46c87ba",
   "metadata": {},
   "outputs": [],
   "source": [
    "r = create_node(l[0])\n",
    "\n",
    "for i in l:\n",
    "    if l.index(i) == 0:\n",
    "        r = create_node(l[0])\n",
    "        \n",
    "    create_node(nodes)"
   ]
  },
  {
   "cell_type": "code",
   "execution_count": 170,
   "id": "3b41ee01-0686-46cd-a785-027fb2e0eed4",
   "metadata": {},
   "outputs": [
    {
     "name": "stdout",
     "output_type": "stream",
     "text": [
      "\n",
      "     0\n",
      "    / \\\n",
      "None  \n",
      "     1\n",
      "    / \\\n",
      "None  None\n",
      "            \n",
      "            \n"
     ]
    }
   ],
   "source": [
    "r = create_node(l[0])\n",
    "create_node(l[1], nodes[0])\n",
    "print(r)"
   ]
  },
  {
   "cell_type": "code",
   "execution_count": 14,
   "id": "19dc083b-0e8f-4f14-92f0-31c4ed306550",
   "metadata": {},
   "outputs": [],
   "source": [
    "def search(node, param):\n",
    "    if node.left is None or node.right is None:\n",
    "        print('Not Found!')\n",
    "        \n",
    "    if node.key == param:\n",
    "        print(f'fount at {repr(node)}')\n",
    "    else:\n",
    "        search(node.right, param)\n",
    "        search(node.left, param)"
   ]
  },
  {
   "cell_type": "code",
   "execution_count": 22,
   "id": "6ebe4ae6-88d1-4ecf-917c-3fe10ac1a5bc",
   "metadata": {},
   "outputs": [
    {
     "data": {
      "text/plain": [
       "(3.0, [0, 1, 2, 3, 4, 5, 20, 23])"
      ]
     },
     "execution_count": 22,
     "metadata": {},
     "output_type": "execute_result"
    }
   ],
   "source": [
    "c = [1,2,3,5,6]\n",
    "def binerize(L):\n",
    "    l = L.copy()\n",
    "    while not log(len(l), 2).is_integer():\n",
    "        l.append(None)\n",
    "        print(len(l))\n",
    "    return log(len(l),2), l\n",
    "\n",
    "binerize(l)"
   ]
  },
  {
   "cell_type": "code",
   "execution_count": 66,
   "id": "bc54a10d-a52f-4d82-a3e4-ff85cae9e349",
   "metadata": {},
   "outputs": [
    {
     "data": {
      "text/plain": [
       "[4, 2, 1, 0, 6, 7, 8]"
      ]
     },
     "execution_count": 66,
     "metadata": {},
     "output_type": "execute_result"
    }
   ],
   "source": [
    "b ,L = binerize(l)\n",
    "\n",
    "\n",
    "def balance_nodes(nodes):\n",
    "    return [2*nodes[0]-i for i in nodes[1:]]\n",
    "\n",
    "\n",
    "def get_tree_matrix(b,L):\n",
    "    nodes = [int(len(L)/2)]\n",
    "\n",
    "    for i in range(int(b)):\n",
    "        nodes.append(int(nodes[-1]/2))\n",
    "        \n",
    "    return nodes\n",
    "\n",
    "\n",
    "t = get_tree_matrix(b, L)\n",
    "t+balance_nodes(t)"
   ]
  }
 ],
 "metadata": {
  "kernelspec": {
   "display_name": "Python 3 (ipykernel)",
   "language": "python",
   "name": "python3"
  },
  "language_info": {
   "codemirror_mode": {
    "name": "ipython",
    "version": 3
   },
   "file_extension": ".py",
   "mimetype": "text/x-python",
   "name": "python",
   "nbconvert_exporter": "python",
   "pygments_lexer": "ipython3",
   "version": "3.10.12"
  }
 },
 "nbformat": 4,
 "nbformat_minor": 5
}
