{
 "cells": [
  {
   "cell_type": "code",
   "execution_count": 2,
   "id": "7e3a705c-f0ff-497d-9a1c-dab7aeb5d996",
   "metadata": {},
   "outputs": [],
   "source": [
    "# import nest_asyncio\n",
    "# nest_asyncio.apply()\n",
    "import os\n",
    "import django\n",
    "import inspect\n",
    "\n",
    "os.environ.setdefault('DJANGO_SETTINGS_MODULE', 'rest.settings')\n",
    "os.environ[\"DJANGO_ALLOW_ASYNC_UNSAFE\"] = \"true\"\n",
    "django.setup()\n",
    "    \n",
    "from books.models import Book\n",
    "from books import utils\n",
    "from django.http import HttpRequest\n",
    "from asgiref.sync import sync_to_async\n",
    "from django.shortcuts import get_object_or_404\n"
   ]
  },
  {
   "cell_type": "code",
   "execution_count": 4,
   "id": "04b04ac6-033f-4a47-b71c-a6f88546f009",
   "metadata": {},
   "outputs": [
    {
     "ename": "AttributeError",
     "evalue": "'Book' object has no attribute 'get_absolute_url'",
     "output_type": "error",
     "traceback": [
      "\u001b[1;31m---------------------------------------------------------------------------\u001b[0m",
      "\u001b[1;31mAttributeError\u001b[0m                            Traceback (most recent call last)",
      "Cell \u001b[1;32mIn[4], line 2\u001b[0m\n\u001b[0;32m      1\u001b[0m l \u001b[38;5;241m=\u001b[39m Book\u001b[38;5;241m.\u001b[39mobjects\u001b[38;5;241m.\u001b[39mraw(\u001b[38;5;124m\"\u001b[39m\u001b[38;5;124mselect * from books_book as t where title=$$11ef11b1d80aa8e0$$\u001b[39m\u001b[38;5;124m\"\u001b[39m)\n\u001b[1;32m----> 2\u001b[0m \u001b[38;5;28;43mlist\u001b[39;49m\u001b[43m(\u001b[49m\u001b[43ml\u001b[49m\u001b[43m)\u001b[49m\u001b[43m[\u001b[49m\u001b[38;5;241;43m0\u001b[39;49m\u001b[43m]\u001b[49m\u001b[38;5;241;43m.\u001b[39;49m\u001b[43mget_absolute_url\u001b[49m()\n",
      "\u001b[1;31mAttributeError\u001b[0m: 'Book' object has no attribute 'get_absolute_url'"
     ]
    }
   ],
   "source": [
    "l = Book.objects.raw(\"select * from books_book as t where title=$$11ef11b1d80aa8e0$$\")\n",
    "list(l)[0].get_absolute_url()"
   ]
  },
  {
   "cell_type": "code",
   "execution_count": 5,
   "id": "54b38dba-d3b4-4884-92a6-71df7d1bac97",
   "metadata": {},
   "outputs": [
    {
     "data": {
      "text/plain": [
       "'test_db'"
      ]
     },
     "execution_count": 5,
     "metadata": {},
     "output_type": "execute_result"
    }
   ],
   "source": [
    "from django.db import connection\n",
    "connection.settings_dict['NAME']"
   ]
  },
  {
   "cell_type": "code",
   "execution_count": 20,
   "id": "93a7b775-2c44-43f8-99bd-0f73ada7e3aa",
   "metadata": {},
   "outputs": [
    {
     "name": "stdout",
     "output_type": "stream",
     "text": [
      "books_book\n"
     ]
    },
    {
     "data": {
      "text/plain": [
       "'books_book.col1=$$something$$ AND books_book.col2=$$other_thing$$ '"
      ]
     },
     "execution_count": 20,
     "metadata": {},
     "output_type": "execute_result"
    }
   ],
   "source": [
    "def get_sql_queryparams(model, lookup_dict):\n",
    "    table = model._meta.db_table\n",
    "    print(table)\n",
    "    q = [f\"{table}.{i}=$${j}$$ \" for (i, j) in lookup_dict.items()]\n",
    "    length = len(q)\n",
    "    for i in range(length):\n",
    "        if i < length - 1:\n",
    "            q[i] += 'AND '\n",
    "    return ''.join(q)\n",
    "\n",
    "get_sql_queryparams(Book,{'col1':'something', 'col2':'other_thing'})"
   ]
  },
  {
   "cell_type": "code",
   "execution_count": 21,
   "id": "0fcf3e0e-93be-4a15-b7a8-6b28d40eb9ed",
   "metadata": {},
   "outputs": [
    {
     "data": {
      "text/plain": [
       "django.db.models.base.ModelBase"
      ]
     },
     "execution_count": 21,
     "metadata": {},
     "output_type": "execute_result"
    }
   ],
   "source": [
    "type(Book)"
   ]
  }
 ],
 "metadata": {
  "kernelspec": {
   "display_name": "Django Shell-Plus",
   "language": "python",
   "name": "django_extensions"
  },
  "language_info": {
   "codemirror_mode": {
    "name": "ipython",
    "version": 3
   },
   "file_extension": ".py",
   "mimetype": "text/x-python",
   "name": "python",
   "nbconvert_exporter": "python",
   "pygments_lexer": "ipython3",
   "version": "3.9.5"
  }
 },
 "nbformat": 4,
 "nbformat_minor": 5
}
