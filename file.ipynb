{
 "cells": [
  {
   "cell_type": "code",
   "execution_count": 1,
   "id": "83fdb524-a9de-4808-bcde-4c90c70e9936",
   "metadata": {},
   "outputs": [],
   "source": [
    "# import nest_asyncio\n",
    "# nest_asyncio.apply()\n",
    "import os\n",
    "import django\n",
    "import inspect\n",
    "\n",
    "os.environ.setdefault('DJANGO_SETTINGS_MODULE', 'rest.settings')\n",
    "os.environ[\"DJANGO_ALLOW_ASYNC_UNSAFE\"] = \"true\"\n",
    "django.setup()\n",
    "    \n",
    "from books.models import Book\n",
    "from books import utils\n",
    "\n",
    "from asgiref.sync import sync_to_async\n"
   ]
  },
  {
   "cell_type": "code",
   "execution_count": 2,
   "id": "460f7e72-48c1-4335-91fa-b2b578d06189",
   "metadata": {},
   "outputs": [
    {
     "data": {
      "text/plain": [
       "'[{\"model\": \"books.book\", \"pk\": 45, \"fields\": {\"title\": \"Jacob Jones\", \"publication_date\": \"2001-04-05\", \"price\": 62.0, \"serial_number\": \"73b96721-df46-4516-9bee-b5629a4ca8d1\", \"description\": \"Short price tell huge popular indeed. One certain every beyond both.\\\\nOption mother send good. Space professor grow hair site agent word. Race anyone inside plant however.\\\\nLikely rise if likely drive law often. Show read goal add.\\\\nBehind main certain growth. Build lose top nature president.\"}}]'"
      ]
     },
     "execution_count": 2,
     "metadata": {},
     "output_type": "execute_result"
    }
   ],
   "source": [
    "b = Book.objects.raw('SELECT * FROM books_book WHERE title=\"Jacob Jones\"')\n",
    "from django.core.serializers import serialize\n",
    "serialize('json', b)"
   ]
  },
  {
   "cell_type": "code",
   "execution_count": 11,
   "id": "917e557f-d19d-4d68-8363-aff157bf1092",
   "metadata": {},
   "outputs": [
    {
     "ename": "TypeError",
     "evalue": "'ModelFormMetaclass' object is not subscriptable",
     "output_type": "error",
     "traceback": [
      "\u001b[0;31m---------------------------------------------------------------------------\u001b[0m",
      "\u001b[0;31mTypeError\u001b[0m                                 Traceback (most recent call last)",
      "Cell \u001b[0;32mIn[11], line 5\u001b[0m\n\u001b[1;32m      3\u001b[0m f \u001b[38;5;241m=\u001b[39m modelform_factory(Book, fields\u001b[38;5;241m=\u001b[39m[\u001b[38;5;124m'\u001b[39m\u001b[38;5;124mserial_number\u001b[39m\u001b[38;5;124m'\u001b[39m])\n\u001b[1;32m      4\u001b[0m Book\u001b[38;5;241m.\u001b[39m_meta\u001b[38;5;241m.\u001b[39mverbose_name\n\u001b[0;32m----> 5\u001b[0m \u001b[43mf\u001b[49m\u001b[43m[\u001b[49m\u001b[38;5;124;43m'\u001b[39;49m\u001b[38;5;124;43mserial_number\u001b[39;49m\u001b[38;5;124;43m'\u001b[39;49m\u001b[43m]\u001b[49m\n",
      "\u001b[0;31mTypeError\u001b[0m: 'ModelFormMetaclass' object is not subscriptable"
     ]
    }
   ],
   "source": [
    "from django.contrib.admin.options import modelform_factory\n",
    "\n",
    "f = modelform_factory(Book, fields=['serial_number'])\n",
    "Book._meta.verbose_name\n",
    "f['serial_number']"
   ]
  },
  {
   "cell_type": "code",
   "execution_count": 95,
   "id": "7c521895-6cb1-4626-8006-76a598f808e3",
   "metadata": {},
   "outputs": [
    {
     "data": {
      "text/plain": [
       "7.442434072494507"
      ]
     },
     "execution_count": 95,
     "metadata": {},
     "output_type": "execute_result"
    }
   ],
   "source": [
    "from faker import Faker\n",
    "from time import time\n",
    "import time as T\n",
    "import random\n",
    "import string\n",
    "\n",
    "import hashlib\n",
    "\n",
    "\n",
    "def generate_random_string(length):\n",
    "    letters = string.ascii_letters\n",
    "    random_string = ''.join(random.sample(string.ascii_letters,length))\n",
    "    return random_string\n",
    "\n",
    "f = Faker()\n",
    "t1 = time()\n",
    "for i in range(1000000):\n",
    "    # ''.join(random.sample(string.ascii_letters,10))\n",
    "    # f.uuid4()\n",
    "    data = f\"Hello, World!{T.time()}\".encode()\n",
    "    x.update(data)\n",
    "    x.hexdigest()\n",
    "    f.text(10)\n",
    "    \n",
    "t2 = time()\n",
    "t2-t1"
   ]
  },
  {
   "cell_type": "code",
   "execution_count": 29,
   "id": "98c774b8-b934-477b-8666-3a0fa358b0e2",
   "metadata": {},
   "outputs": [
    {
     "data": {
      "text/plain": [
       "'dxlbGLpcnEJM'"
      ]
     },
     "execution_count": 29,
     "metadata": {},
     "output_type": "execute_result"
    }
   ],
   "source": [
    "generate_random_string(12)"
   ]
  },
  {
   "cell_type": "code",
   "execution_count": 26,
   "id": "d3b6cec4-2516-4918-9d2c-b095ad73c844",
   "metadata": {},
   "outputs": [
    {
     "data": {
      "text/plain": [
       "'KGZDIEQgyi'"
      ]
     },
     "execution_count": 26,
     "metadata": {},
     "output_type": "execute_result"
    }
   ],
   "source": [
    "''.join(random.sample(string.ascii_letters,10))"
   ]
  },
  {
   "cell_type": "code",
   "execution_count": 102,
   "id": "6150555b-d01d-4050-9e99-4c3d526f706a",
   "metadata": {},
   "outputs": [
    {
     "data": {
      "text/plain": [
       "1695200912.47"
      ]
     },
     "execution_count": 102,
     "metadata": {},
     "output_type": "execute_result"
    }
   ],
   "source": [
    "import time\n",
    "'1232.11251'.format(.2)\n",
    "round(time.time(),2)"
   ]
  }
 ],
 "metadata": {
  "kernelspec": {
   "display_name": "Django Shell-Plus",
   "language": "python",
   "name": "django_extensions"
  },
  "language_info": {
   "codemirror_mode": {
    "name": "ipython",
    "version": 3
   },
   "file_extension": ".py",
   "mimetype": "text/x-python",
   "name": "python",
   "nbconvert_exporter": "python",
   "pygments_lexer": "ipython3",
   "version": "3.10.12"
  }
 },
 "nbformat": 4,
 "nbformat_minor": 5
}
