{
 "cells": [
  {
   "cell_type": "code",
   "execution_count": 1,
   "id": "83fdb524-a9de-4808-bcde-4c90c70e9936",
   "metadata": {},
   "outputs": [],
   "source": [
    "# import nest_asyncio\n",
    "# nest_asyncio.apply()\n",
    "import os\n",
    "import django\n",
    "import inspect\n",
    "\n",
    "os.environ.setdefault('DJANGO_SETTINGS_MODULE', 'rest.settings')\n",
    "os.environ[\"DJANGO_ALLOW_ASYNC_UNSAFE\"] = \"true\"\n",
    "django.setup()\n",
    "\n",
    "from books.models import Book\n",
    "from books import utils\n",
    "\n",
    "from asgiref.sync import sync_to_async\n",
    "from django.shortcuts import get_object_or_404\n",
    "from django.http import HttpRequest"
   ]
  },
  {
   "cell_type": "code",
   "execution_count": 2,
   "id": "66e7590c-27e5-4dbb-9a8a-81d5a9f72e3b",
   "metadata": {},
   "outputs": [
    {
     "data": {
      "text/plain": [
       "'books_book.title=%$$d467227cab2b40a8$$% AND books_book.serial_number=%$$sdf$$% '"
      ]
     },
     "execution_count": 2,
     "metadata": {},
     "output_type": "execute_result"
    }
   ],
   "source": [
    "def get_sql_queryparams(model, lookup_dict: dict, delim='AND') -> str:\n",
    "    \"\"\"\n",
    "    accepts a dictionary of kwargs and returns a string contains query\n",
    "    parameters.\n",
    "    example:\n",
    "    get_sql_queryparams(Book,{'col1':'something', 'col2':'other_thing'})\n",
    "    >>> 'books_book.col1=$$something$$ AND books_book.col2=$$other_thing$$ '\n",
    "    \"\"\"\n",
    "    table = model._meta.db_table\n",
    "    q = [f\"{table}.{i}=%$${j}$$% \" for (i, j) in lookup_dict.items()]\n",
    "    length = len(q)\n",
    "    for i in range(length):\n",
    "        if i < length - 1:\n",
    "            q[i] += delim+' '\n",
    "    return ''.join(q)\n",
    "request = {'title':'d467227cab2b40a8','serial_number':\"sdf\"}\n",
    "str(Book.objects.get_queryset().query)\n",
    "get_sql_queryparams(Book, request)"
   ]
  },
  {
   "cell_type": "code",
   "execution_count": 4,
   "id": "45cf1a1a-2848-43a2-a0d9-ce3f71d6e118",
   "metadata": {},
   "outputs": [
    {
     "data": {
      "text/plain": [
       "True"
      ]
     },
     "execution_count": 4,
     "metadata": {},
     "output_type": "execute_result"
    }
   ],
   "source": [
    "# from django.db import connection\n",
    "# connection.settings_dict['PASSWORD'] = '1234'\n",
    "dir(HttpRequest().POST)\n",
    "'d467227cab2b40a8' in request.values()"
   ]
  },
  {
   "cell_type": "code",
   "execution_count": 7,
   "id": "460f7e72-48c1-4335-91fa-b2b578d06189",
   "metadata": {},
   "outputs": [
    {
     "data": {
      "text/plain": [
       "[]"
      ]
     },
     "execution_count": 7,
     "metadata": {},
     "output_type": "execute_result"
    }
   ],
   "source": [
    "b = Book.objects.raw(\"select * from books_book as t where title=$$%s$$\" % '11ef11b1d80aa8e0')\n",
    "# from django.core.serializers import serialize\n",
    "# serialize('json', b)\n"
   ]
  },
  {
   "cell_type": "code",
   "execution_count": 9,
   "id": "608c54bb-b4de-4c80-b079-b413c812d502",
   "metadata": {},
   "outputs": [],
   "source": [
    "# Book.objects.get(**{'title': 'd51804cb9cf0ff49', 'serial_number': \n",
    "#  'd51804cb9cf0ff49'})\n"
   ]
  },
  {
   "cell_type": "code",
   "execution_count": 36,
   "id": "ad12d1ff-fc78-4da5-882d-9231c1458f54",
   "metadata": {},
   "outputs": [
    {
     "data": {
      "text/plain": [
       "{'title': 'd467227cab2b40a8', 'serial_number': 'sdf'}"
      ]
     },
     "execution_count": 36,
     "metadata": {},
     "output_type": "execute_result"
    }
   ],
   "source": [
    "lookup_fields = ['title', 'serial_number']\n",
    "request = {'title':'d467227cab2b40a8','serial_number':\"sdf\"}\n",
    "kwargs = {i:request[i] for i in lookup_fields if i in request}\n",
    "kwargs\n"
   ]
  },
  {
   "cell_type": "code",
   "execution_count": 38,
   "id": "56ba2a3d-dfd1-404f-a502-6c51727c974f",
   "metadata": {},
   "outputs": [
    {
     "data": {
      "text/plain": [
       "'table.title=$$d467227cab2b40a8$$table.serial_number=$$sdf$$'"
      ]
     },
     "execution_count": 38,
     "metadata": {},
     "output_type": "execute_result"
    }
   ],
   "source": [
    "def get_sql_lookups(lookup_dict, lookup_fields):\n",
    "    q = [f\"table.{i}=$${j}$$\" for (i, j) in lookup_dict.items()\n",
    "         if i in lookup_fields]\n",
    "    return ''.join(q)\n",
    "get_sql_lookups(request)"
   ]
  },
  {
   "cell_type": "code",
   "execution_count": 54,
   "id": "ee7ac3dd-30db-4da7-bcfa-ad902d79395a",
   "metadata": {},
   "outputs": [
    {
     "name": "stdout",
     "output_type": "stream",
     "text": [
      "[' as ASC', ' sort_parameter DESC']\n"
     ]
    },
    {
     "data": {
      "text/plain": [
       "'order by as ASC, sort_parameter DESC'"
      ]
     },
     "execution_count": 54,
     "metadata": {},
     "output_type": "execute_result"
    }
   ],
   "source": [
    "def get_sql_ordering(fields:dict[str, str]):\n",
    "\n",
    "    args =  [f\" {i} {fields[i]}\" for i in fields]\n",
    "    for i in range(len(args)-1):\n",
    "        args[i] += ','\n",
    "        \n",
    "    return f'order by' + ''.join(args)\n",
    "\n",
    "get_sql_ordering({'as':'ASC', 'sort_parameter':'DESC'})"
   ]
  },
  {
   "cell_type": "code",
   "execution_count": 56,
   "id": "aeb10051-fdcb-46fc-adda-74efcc6f7212",
   "metadata": {},
   "outputs": [],
   "source": [
    "sql = 'SELECT * FROM books_book WHERE books_book.description ILIKE %s'\n",
    "\n",
    "\n",
    "c = Book.objects.raw(sql,['%plant%'])\n",
    "# dir(c)\n",
    "# list(c)"
   ]
  },
  {
   "cell_type": "code",
   "execution_count": 91,
   "id": "a14de4d8-34d9-40b6-ad9b-dfc652770920",
   "metadata": {},
   "outputs": [
    {
     "name": "stdout",
     "output_type": "stream",
     "text": [
      "2\n"
     ]
    },
    {
     "data": {
      "text/plain": [
       "{'c': 'DESC', 'b': 'DESC'}"
      ]
     },
     "execution_count": 91,
     "metadata": {},
     "output_type": "execute_result"
    }
   ],
   "source": [
    "L = ['a','b','c']\n",
    "def get_ordering_enum(order_code):\n",
    "    l = {}\n",
    "    for i in order_code.split('.'):\n",
    "        index = abs(int(i))\n",
    "        if i.startswith('-'):\n",
    "            print(abs(int(i)))\n",
    "            \n",
    "            l.update({L[index]:'DESC'})\n",
    "        else:\n",
    "            l.update({L[index]:'DESC'})\n",
    "    return l\n",
    "\n",
    "\n",
    "(get_ordering_enum('-2.1'))"
   ]
  },
  {
   "cell_type": "code",
   "execution_count": 12,
   "id": "f613fbe0-e118-4597-a690-3fabbe6c0a2f",
   "metadata": {},
   "outputs": [
    {
     "data": {
      "text/plain": [
       "'UPPER(books_book.decription::text) ILIKE %s AND UPPER(books_book.blah::text) ILIKE %s '"
      ]
     },
     "execution_count": 12,
     "metadata": {},
     "output_type": "execute_result"
    }
   ],
   "source": [
    "dict( [('description', 'DESC'), ('serial_number', 'ASC')])\n",
    "\n",
    "def get_sql_searchparams(model , search_fields, search_param, delim:str= 'AND') -> str:\n",
    "    \"\"\"\n",
    "\n",
    "    \"\"\"\n",
    "    table = model._meta.db_table\n",
    "    q = [f\"UPPER({table}.{i}::text) ILIKE %s \" for i in search_fields]\n",
    "    length = len(q)\n",
    "    for i in range(length):\n",
    "        if i < length - 1:\n",
    "            q[i] += delim+' '\n",
    "    return ''.join(q)\n",
    "\n",
    "get_sql_searchparams(Book, ['decription', 'blah'], 'plant')"
   ]
  },
  {
   "cell_type": "code",
   "execution_count": 40,
   "id": "6af9338a-19fb-4e62-9e86-6e88bf42e614",
   "metadata": {},
   "outputs": [
    {
     "data": {
      "text/plain": [
       "'id asc, title desc, serial_number desc'"
      ]
     },
     "execution_count": 40,
     "metadata": {},
     "output_type": "execute_result"
    }
   ],
   "source": [
    "l = ['decription', 'blah']\n",
    "d={'id': 'asc', 'title': 'desc', 'serial_number': 'desc'}\n",
    "', '.join([f'{i} {d[i]}' for i in d])\n"
   ]
  },
  {
   "cell_type": "markdown",
   "id": "42144239-0a2e-4d80-80e8-619342bb2aa5",
   "metadata": {},
   "source": [
    "* = 585.92\t\n",
    "\n",
    "django = \n",
    "list_display : "
   ]
  }
 ],
 "metadata": {
  "kernelspec": {
   "display_name": "Django Shell-Plus",
   "language": "python",
   "name": "django_extensions"
  },
  "language_info": {
   "codemirror_mode": {
    "name": "ipython",
    "version": 3
   },
   "file_extension": ".py",
   "mimetype": "text/x-python",
   "name": "python",
   "nbconvert_exporter": "python",
   "pygments_lexer": "ipython3",
   "version": "3.10.12"
  }
 },
 "nbformat": 4,
 "nbformat_minor": 5
}
