{
 "cells": [
  {
   "cell_type": "code",
   "execution_count": 39,
   "id": "83fdb524-a9de-4808-bcde-4c90c70e9936",
   "metadata": {},
   "outputs": [],
   "source": [
    "# import nest_asyncio\n",
    "# nest_asyncio.apply()\n",
    "import os\n",
    "import django\n",
    "import inspect\n",
    "\n",
    "os.environ.setdefault('DJANGO_SETTINGS_MODULE', 'rest.settings')\n",
    "os.environ[\"DJANGO_ALLOW_ASYNC_UNSAFE\"] = \"true\"\n",
    "django.setup()\n",
    "    \n",
    "from books.models import Book\n",
    "from books import utils\n",
    "\n",
    "from asgiref.sync import sync_to_async\n",
    "from django.shortcuts import get_object_or_404\n",
    "from django.http import HttpRequest"
   ]
  },
  {
   "cell_type": "code",
   "execution_count": 57,
   "id": "45cf1a1a-2848-43a2-a0d9-ce3f71d6e118",
   "metadata": {},
   "outputs": [
    {
     "data": {
      "text/plain": [
       "True"
      ]
     },
     "execution_count": 57,
     "metadata": {},
     "output_type": "execute_result"
    }
   ],
   "source": [
    "from django.db import connection\n",
    "connection.settings_dict['PASSWORD'] = '5207'\n",
    "dir(HttpRequest().POST)\n",
    "'d467227cab2b40a8' in request.values()"
   ]
  },
  {
   "cell_type": "code",
   "execution_count": 63,
   "id": "460f7e72-48c1-4335-91fa-b2b578d06189",
   "metadata": {},
   "outputs": [
    {
     "ename": "NoReverseMatch",
     "evalue": "Reverse for 'book-detail' not found. 'book-detail' is not a valid view function or pattern name.",
     "output_type": "error",
     "traceback": [
      "\u001b[1;31m---------------------------------------------------------------------------\u001b[0m",
      "\u001b[1;31mNoReverseMatch\u001b[0m                            Traceback (most recent call last)",
      "Cell \u001b[1;32mIn[63], line 4\u001b[0m\n\u001b[0;32m      1\u001b[0m b \u001b[38;5;241m=\u001b[39m Book\u001b[38;5;241m.\u001b[39mobjects\u001b[38;5;241m.\u001b[39mraw(\u001b[38;5;124m\"\u001b[39m\u001b[38;5;124mselect * from books_book as t where title=$$\u001b[39m\u001b[38;5;132;01m%s\u001b[39;00m\u001b[38;5;124m$$\u001b[39m\u001b[38;5;124m\"\u001b[39m \u001b[38;5;241m%\u001b[39m \u001b[38;5;124m'\u001b[39m\u001b[38;5;124m11ef11b1d80aa8e0\u001b[39m\u001b[38;5;124m'\u001b[39m)\n\u001b[0;32m      2\u001b[0m \u001b[38;5;66;03m# from django.core.serializers import serialize\u001b[39;00m\n\u001b[0;32m      3\u001b[0m \u001b[38;5;66;03m# serialize('json', b)\u001b[39;00m\n\u001b[1;32m----> 4\u001b[0m \u001b[38;5;28;43mlist\u001b[39;49m\u001b[43m(\u001b[49m\u001b[43mb\u001b[49m\u001b[43m)\u001b[49m\u001b[43m[\u001b[49m\u001b[38;5;241;43m0\u001b[39;49m\u001b[43m]\u001b[49m\u001b[38;5;241;43m.\u001b[39;49m\u001b[43mget_absolute_url\u001b[49m\u001b[43m(\u001b[49m\u001b[43m)\u001b[49m\n",
      "File \u001b[1;32mF:\\Python_Projects\\elmsanat\\first_task\\books\\models.py:16\u001b[0m, in \u001b[0;36mget_absolute_url\u001b[1;34m(self)\u001b[0m\n\u001b[0;32m     12\u001b[0m def __str__(self):\n\u001b[0;32m     13\u001b[0m     return self.title\n\u001b[0;32m     15\u001b[0m # def get_absolute_url(self):\n\u001b[1;32m---> 16\u001b[0m #     return reverse('book-detail', args=[self.id])\n",
      "File \u001b[1;32mF:\\Python_Projects\\elmsanat\\venv\\lib\\site-packages\\django\\urls\\base.py:88\u001b[0m, in \u001b[0;36mreverse\u001b[1;34m(viewname, urlconf, args, kwargs, current_app)\u001b[0m\n\u001b[0;32m     83\u001b[0m     \u001b[38;5;28;01mif\u001b[39;00m ns_pattern:\n\u001b[0;32m     84\u001b[0m         resolver \u001b[38;5;241m=\u001b[39m get_ns_resolver(\n\u001b[0;32m     85\u001b[0m             ns_pattern, resolver, \u001b[38;5;28mtuple\u001b[39m(ns_converters\u001b[38;5;241m.\u001b[39mitems())\n\u001b[0;32m     86\u001b[0m         )\n\u001b[1;32m---> 88\u001b[0m \u001b[38;5;28;01mreturn\u001b[39;00m resolver\u001b[38;5;241m.\u001b[39m_reverse_with_prefix(view, prefix, \u001b[38;5;241m*\u001b[39margs, \u001b[38;5;241m*\u001b[39m\u001b[38;5;241m*\u001b[39mkwargs)\n",
      "File \u001b[1;32mF:\\Python_Projects\\elmsanat\\venv\\lib\\site-packages\\django\\urls\\resolvers.py:828\u001b[0m, in \u001b[0;36mURLResolver._reverse_with_prefix\u001b[1;34m(self, lookup_view, _prefix, *args, **kwargs)\u001b[0m\n\u001b[0;32m    823\u001b[0m \u001b[38;5;28;01melse\u001b[39;00m:\n\u001b[0;32m    824\u001b[0m     msg \u001b[38;5;241m=\u001b[39m (\n\u001b[0;32m    825\u001b[0m         \u001b[38;5;124m\"\u001b[39m\u001b[38;5;124mReverse for \u001b[39m\u001b[38;5;124m'\u001b[39m\u001b[38;5;132;01m%(view)s\u001b[39;00m\u001b[38;5;124m'\u001b[39m\u001b[38;5;124m not found. \u001b[39m\u001b[38;5;124m'\u001b[39m\u001b[38;5;132;01m%(view)s\u001b[39;00m\u001b[38;5;124m'\u001b[39m\u001b[38;5;124m is not \u001b[39m\u001b[38;5;124m\"\u001b[39m\n\u001b[0;32m    826\u001b[0m         \u001b[38;5;124m\"\u001b[39m\u001b[38;5;124ma valid view function or pattern name.\u001b[39m\u001b[38;5;124m\"\u001b[39m \u001b[38;5;241m%\u001b[39m {\u001b[38;5;124m\"\u001b[39m\u001b[38;5;124mview\u001b[39m\u001b[38;5;124m\"\u001b[39m: lookup_view_s}\n\u001b[0;32m    827\u001b[0m     )\n\u001b[1;32m--> 828\u001b[0m \u001b[38;5;28;01mraise\u001b[39;00m NoReverseMatch(msg)\n",
      "\u001b[1;31mNoReverseMatch\u001b[0m: Reverse for 'book-detail' not found. 'book-detail' is not a valid view function or pattern name."
     ]
    }
   ],
   "source": [
    "b = Book.objects.raw(\"select * from books_book as t where title=$$%s$$\" % '11ef11b1d80aa8e0')\n",
    "# from django.core.serializers import serialize\n",
    "# serialize('json', b)\n",
    "list(b)[0].get_absolute_url()\n"
   ]
  },
  {
   "cell_type": "code",
   "execution_count": 36,
   "id": "ad12d1ff-fc78-4da5-882d-9231c1458f54",
   "metadata": {},
   "outputs": [
    {
     "data": {
      "text/plain": [
       "{'title': 'd467227cab2b40a8', 'serial_number': 'sdf'}"
      ]
     },
     "execution_count": 36,
     "metadata": {},
     "output_type": "execute_result"
    }
   ],
   "source": [
    "lookup_fields = ['title', 'serial_number']\n",
    "request = {'title':'d467227cab2b40a8','serial_number':\"sdf\"}\n",
    "kwargs = {i:request[i] for i in lookup_fields if i in request}\n",
    "kwargs\n"
   ]
  },
  {
   "cell_type": "code",
   "execution_count": 38,
   "id": "56ba2a3d-dfd1-404f-a502-6c51727c974f",
   "metadata": {},
   "outputs": [
    {
     "data": {
      "text/plain": [
       "'table.title=$$d467227cab2b40a8$$table.serial_number=$$sdf$$'"
      ]
     },
     "execution_count": 38,
     "metadata": {},
     "output_type": "execute_result"
    }
   ],
   "source": [
    "def get_sql_lookups(lookup_dict, lookup_fields):\n",
    "    q = [f\"table.{i}=$${j}$$\" for (i, j) in lookup_dict.items()\n",
    "         if i in lookup_fields]\n",
    "    return ''.join(q)\n",
    "get_sql_lookups(request)"
   ]
  },
  {
   "cell_type": "code",
   "execution_count": 11,
   "id": "917e557f-d19d-4d68-8363-aff157bf1092",
   "metadata": {},
   "outputs": [
    {
     "ename": "TypeError",
     "evalue": "'ModelFormMetaclass' object is not subscriptable",
     "output_type": "error",
     "traceback": [
      "\u001b[0;31m---------------------------------------------------------------------------\u001b[0m",
      "\u001b[0;31mTypeError\u001b[0m                                 Traceback (most recent call last)",
      "Cell \u001b[0;32mIn[11], line 5\u001b[0m\n\u001b[1;32m      3\u001b[0m f \u001b[38;5;241m=\u001b[39m modelform_factory(Book, fields\u001b[38;5;241m=\u001b[39m[\u001b[38;5;124m'\u001b[39m\u001b[38;5;124mserial_number\u001b[39m\u001b[38;5;124m'\u001b[39m])\n\u001b[1;32m      4\u001b[0m Book\u001b[38;5;241m.\u001b[39m_meta\u001b[38;5;241m.\u001b[39mverbose_name\n\u001b[0;32m----> 5\u001b[0m \u001b[43mf\u001b[49m\u001b[43m[\u001b[49m\u001b[38;5;124;43m'\u001b[39;49m\u001b[38;5;124;43mserial_number\u001b[39;49m\u001b[38;5;124;43m'\u001b[39;49m\u001b[43m]\u001b[49m\n",
      "\u001b[0;31mTypeError\u001b[0m: 'ModelFormMetaclass' object is not subscriptable"
     ]
    }
   ],
   "source": [
    "from django.contrib.admin.options import modelform_factory\n",
    "\n",
    "f = modelform_factory(Book, fields=['serial_number'])\n",
    "Book._meta.verbose_name\n",
    "f['serial_number']"
   ]
  },
  {
   "cell_type": "code",
   "execution_count": 95,
   "id": "7c521895-6cb1-4626-8006-76a598f808e3",
   "metadata": {},
   "outputs": [
    {
     "data": {
      "text/plain": [
       "7.442434072494507"
      ]
     },
     "execution_count": 95,
     "metadata": {},
     "output_type": "execute_result"
    }
   ],
   "source": [
    "from faker import Faker\n",
    "from time import time\n",
    "import time as T\n",
    "import random\n",
    "import string\n",
    "\n",
    "import hashlib\n",
    "\n",
    "\n",
    "def generate_random_string(length):\n",
    "    letters = string.ascii_letters\n",
    "    random_string = ''.join(random.sample(string.ascii_letters,length))\n",
    "    return random_string\n",
    "\n",
    "f = Faker()\n",
    "t1 = time()\n",
    "for i in range(1000000):\n",
    "    # ''.join(random.sample(string.ascii_letters,10))\n",
    "    # f.uuid4()\n",
    "    data = f\"Hello, World!{T.time()}\".encode()\n",
    "    x.update(data)\n",
    "    x.hexdigest()\n",
    "    f.text(10)\n",
    "    \n",
    "t2 = time()\n",
    "t2-t1"
   ]
  },
  {
   "cell_type": "code",
   "execution_count": 29,
   "id": "98c774b8-b934-477b-8666-3a0fa358b0e2",
   "metadata": {},
   "outputs": [
    {
     "data": {
      "text/plain": [
       "'dxlbGLpcnEJM'"
      ]
     },
     "execution_count": 29,
     "metadata": {},
     "output_type": "execute_result"
    }
   ],
   "source": [
    "generate_random_string(12)"
   ]
  },
  {
   "cell_type": "code",
   "execution_count": 26,
   "id": "d3b6cec4-2516-4918-9d2c-b095ad73c844",
   "metadata": {},
   "outputs": [
    {
     "data": {
      "text/plain": [
       "'KGZDIEQgyi'"
      ]
     },
     "execution_count": 26,
     "metadata": {},
     "output_type": "execute_result"
    }
   ],
   "source": [
    "''.join(random.sample(string.ascii_letters,10))"
   ]
  },
  {
   "cell_type": "code",
   "execution_count": 82,
   "id": "6150555b-d01d-4050-9e99-4c3d526f706a",
   "metadata": {},
   "outputs": [
    {
     "data": {
      "text/plain": [
       "(<django.db.models.fields.BigAutoField: id>,\n",
       " <django.db.models.fields.CharField: title>,\n",
       " <django.db.models.fields.DateField: publication_date>,\n",
       " <django.db.models.fields.FloatField: price>,\n",
       " <django.db.models.fields.CharField: serial_number>,\n",
       " <django.db.models.fields.TextField: description>)"
      ]
     },
     "execution_count": 82,
     "metadata": {},
     "output_type": "execute_result"
    }
   ],
   "source": [
    "vars(Book._meta)\n",
    "Book._meta.get_fields()"
   ]
  },
  {
   "cell_type": "code",
   "execution_count": 77,
   "id": "1ed04488-464a-4dc1-92ac-22dab6b42627",
   "metadata": {},
   "outputs": [
    {
     "data": {
      "text/plain": [
       "[('DoesNotExist', books.models.Book.DoesNotExist),\n",
       " ('MultipleObjectsReturned', books.models.Book.MultipleObjectsReturned),\n",
       " ('__class__', django.db.models.base.ModelBase),\n",
       " ('__delattr__', <slot wrapper '__delattr__' of 'object' objects>),\n",
       " ('__dict__',\n",
       "  mappingproxy({'__module__': 'books.models',\n",
       "                '__str__': <function books.models.Book.__str__(self)>,\n",
       "                '__doc__': 'Book(id, title, publication_date, price, serial_number, description)',\n",
       "                '_meta': <Options for Book>,\n",
       "                'DoesNotExist': books.models.Book.DoesNotExist,\n",
       "                'MultipleObjectsReturned': books.models.Book.MultipleObjectsReturned,\n",
       "                'title': <django.db.models.query_utils.DeferredAttribute at 0x7f373e1cb0d0>,\n",
       "                'publication_date': <django.db.models.query_utils.DeferredAttribute at 0x7f373e1cb130>,\n",
       "                'get_next_by_publication_date': functools.partialmethod(<function Model._get_next_or_previous_by_FIELD at 0x7f3754329b40>, , field=<django.db.models.fields.DateField: publication_date>, is_next=True),\n",
       "                'get_previous_by_publication_date': functools.partialmethod(<function Model._get_next_or_previous_by_FIELD at 0x7f3754329b40>, , field=<django.db.models.fields.DateField: publication_date>, is_next=False),\n",
       "                'price': <django.db.models.query_utils.DeferredAttribute at 0x7f373e1cb220>,\n",
       "                'serial_number': <django.db.models.query_utils.DeferredAttribute at 0x7f373e1cb2b0>,\n",
       "                'description': <django.db.models.query_utils.DeferredAttribute at 0x7f373e1cb310>,\n",
       "                'id': <django.db.models.query_utils.DeferredAttribute at 0x7f373e1cb430>,\n",
       "                'objects': <django.db.models.manager.ManagerDescriptor at 0x7f373e1cb3d0>})),\n",
       " ('__dir__', <method '__dir__' of 'object' objects>),\n",
       " ('__doc__',\n",
       "  'Book(id, title, publication_date, price, serial_number, description)'),\n",
       " ('__eq__', <function django.db.models.base.Model.__eq__(self, other)>),\n",
       " ('__format__', <method '__format__' of 'object' objects>),\n",
       " ('__ge__', <slot wrapper '__ge__' of 'object' objects>),\n",
       " ('__getattribute__', <slot wrapper '__getattribute__' of 'object' objects>),\n",
       " ('__getstate__', <function django.db.models.base.Model.__getstate__(self)>),\n",
       " ('__gt__', <slot wrapper '__gt__' of 'object' objects>),\n",
       " ('__hash__', <function django.db.models.base.Model.__hash__(self)>),\n",
       " ('__init__',\n",
       "  <function django.db.models.base.Model.__init__(self, *args, **kwargs)>),\n",
       " ('__init_subclass__',\n",
       "  <bound method AltersData.__init_subclass__ of <class 'books.models.Book'>>),\n",
       " ('__le__', <slot wrapper '__le__' of 'object' objects>),\n",
       " ('__lt__', <slot wrapper '__lt__' of 'object' objects>),\n",
       " ('__module__', 'books.models'),\n",
       " ('__ne__', <slot wrapper '__ne__' of 'object' objects>),\n",
       " ('__new__', <function object.__new__(*args, **kwargs)>),\n",
       " ('__reduce__', <function django.db.models.base.Model.__reduce__(self)>),\n",
       " ('__reduce_ex__', <method '__reduce_ex__' of 'object' objects>),\n",
       " ('__repr__', <function django.db.models.base.Model.__repr__(self)>),\n",
       " ('__setattr__', <slot wrapper '__setattr__' of 'object' objects>),\n",
       " ('__setstate__',\n",
       "  <function django.db.models.base.Model.__setstate__(self, state)>),\n",
       " ('__sizeof__', <method '__sizeof__' of 'object' objects>),\n",
       " ('__str__', <function books.models.Book.__str__(self)>),\n",
       " ('__subclasshook__', <function Book.__subclasshook__>),\n",
       " ('__weakref__', <attribute '__weakref__' of 'AltersData' objects>),\n",
       " ('_check_column_name_clashes',\n",
       "  <bound method Model._check_column_name_clashes of <class 'books.models.Book'>>),\n",
       " ('_check_constraints',\n",
       "  <bound method Model._check_constraints of <class 'books.models.Book'>>),\n",
       " ('_check_db_table_comment',\n",
       "  <bound method Model._check_db_table_comment of <class 'books.models.Book'>>),\n",
       " ('_check_default_pk',\n",
       "  <bound method Model._check_default_pk of <class 'books.models.Book'>>),\n",
       " ('_check_field_name_clashes',\n",
       "  <bound method Model._check_field_name_clashes of <class 'books.models.Book'>>),\n",
       " ('_check_fields',\n",
       "  <bound method Model._check_fields of <class 'books.models.Book'>>),\n",
       " ('_check_id_field',\n",
       "  <bound method Model._check_id_field of <class 'books.models.Book'>>),\n",
       " ('_check_index_together',\n",
       "  <bound method Model._check_index_together of <class 'books.models.Book'>>),\n",
       " ('_check_indexes',\n",
       "  <bound method Model._check_indexes of <class 'books.models.Book'>>),\n",
       " ('_check_local_fields',\n",
       "  <bound method Model._check_local_fields of <class 'books.models.Book'>>),\n",
       " ('_check_long_column_names',\n",
       "  <bound method Model._check_long_column_names of <class 'books.models.Book'>>),\n",
       " ('_check_m2m_through_same_relationship',\n",
       "  <bound method Model._check_m2m_through_same_relationship of <class 'books.models.Book'>>),\n",
       " ('_check_managers',\n",
       "  <bound method Model._check_managers of <class 'books.models.Book'>>),\n",
       " ('_check_model',\n",
       "  <bound method Model._check_model of <class 'books.models.Book'>>),\n",
       " ('_check_model_name_db_lookup_clashes',\n",
       "  <bound method Model._check_model_name_db_lookup_clashes of <class 'books.models.Book'>>),\n",
       " ('_check_ordering',\n",
       "  <bound method Model._check_ordering of <class 'books.models.Book'>>),\n",
       " ('_check_property_name_related_field_accessor_clashes',\n",
       "  <bound method Model._check_property_name_related_field_accessor_clashes of <class 'books.models.Book'>>),\n",
       " ('_check_single_primary_key',\n",
       "  <bound method Model._check_single_primary_key of <class 'books.models.Book'>>),\n",
       " ('_check_swappable',\n",
       "  <bound method Model._check_swappable of <class 'books.models.Book'>>),\n",
       " ('_check_unique_together',\n",
       "  <bound method Model._check_unique_together of <class 'books.models.Book'>>),\n",
       " ('_do_insert',\n",
       "  <function django.db.models.base.Model._do_insert(self, manager, using, fields, returning_fields, raw)>),\n",
       " ('_do_update',\n",
       "  <function django.db.models.base.Model._do_update(self, base_qs, using, pk_val, values, update_fields, forced_update)>),\n",
       " ('_get_FIELD_display',\n",
       "  <function django.db.models.base.Model._get_FIELD_display(self, field)>),\n",
       " ('_get_expr_references',\n",
       "  <bound method Model._get_expr_references of <class 'books.models.Book'>>),\n",
       " ('_get_field_value_map',\n",
       "  <function django.db.models.base.Model._get_field_value_map(self, meta, exclude=None)>),\n",
       " ('_get_next_or_previous_by_FIELD',\n",
       "  <function django.db.models.base.Model._get_next_or_previous_by_FIELD(self, field, is_next, **kwargs)>),\n",
       " ('_get_next_or_previous_in_order',\n",
       "  <function django.db.models.base.Model._get_next_or_previous_in_order(self, is_next)>),\n",
       " ('_get_pk_val',\n",
       "  <function django.db.models.base.Model._get_pk_val(self, meta=None)>),\n",
       " ('_get_unique_checks',\n",
       "  <function django.db.models.base.Model._get_unique_checks(self, exclude=None, include_meta_constraints=False)>),\n",
       " ('_meta', <Options for Book>),\n",
       " ('_perform_date_checks',\n",
       "  <function django.db.models.base.Model._perform_date_checks(self, date_checks)>),\n",
       " ('_perform_unique_checks',\n",
       "  <function django.db.models.base.Model._perform_unique_checks(self, unique_checks)>),\n",
       " ('_prepare_related_fields_for_save',\n",
       "  <function django.db.models.base.Model._prepare_related_fields_for_save(self, operation_name, fields=None)>),\n",
       " ('_save_parents',\n",
       "  <function django.db.models.base.Model._save_parents(self, cls, using, update_fields)>),\n",
       " ('_save_table',\n",
       "  <function django.db.models.base.Model._save_table(self, raw=False, cls=None, force_insert=False, force_update=False, using=None, update_fields=None)>),\n",
       " ('_set_pk_val',\n",
       "  <function django.db.models.base.Model._set_pk_val(self, value)>),\n",
       " ('adelete',\n",
       "  <function django.db.models.base.Model.adelete(self, using=None, keep_parents=False)>),\n",
       " ('arefresh_from_db',\n",
       "  <function django.db.models.base.Model.arefresh_from_db(self, using=None, fields=None)>),\n",
       " ('asave',\n",
       "  <function django.db.models.base.Model.asave(self, force_insert=False, force_update=False, using=None, update_fields=None)>),\n",
       " ('check', <bound method Model.check of <class 'books.models.Book'>>),\n",
       " ('clean', <function django.db.models.base.Model.clean(self)>),\n",
       " ('clean_fields',\n",
       "  <function django.db.models.base.Model.clean_fields(self, exclude=None)>),\n",
       " ('date_error_message',\n",
       "  <function django.db.models.base.Model.date_error_message(self, lookup_type, field_name, unique_for)>),\n",
       " ('delete',\n",
       "  <function django.db.models.base.Model.delete(self, using=None, keep_parents=False)>),\n",
       " ('description',\n",
       "  <django.db.models.query_utils.DeferredAttribute at 0x7f373e1cb310>),\n",
       " ('from_db', <bound method Model.from_db of <class 'books.models.Book'>>),\n",
       " ('full_clean',\n",
       "  <function django.db.models.base.Model.full_clean(self, exclude=None, validate_unique=True, validate_constraints=True)>),\n",
       " ('get_constraints',\n",
       "  <function django.db.models.base.Model.get_constraints(self)>),\n",
       " ('get_deferred_fields',\n",
       "  <function django.db.models.base.Model.get_deferred_fields(self)>),\n",
       " ('get_next_by_publication_date',\n",
       "  <function functools.partialmethod._make_unbound_method.<locals>._method(self, *, field=<django.db.models.fields.DateField: publication_date>, is_next=True, **kwargs)>),\n",
       " ('get_previous_by_publication_date',\n",
       "  <function functools.partialmethod._make_unbound_method.<locals>._method(self, *, field=<django.db.models.fields.DateField: publication_date>, is_next=False, **kwargs)>),\n",
       " ('id', <django.db.models.query_utils.DeferredAttribute at 0x7f373e1cb430>),\n",
       " ('objects', <django.db.models.manager.Manager at 0x7f373e263dc0>),\n",
       " ('pk', <property at 0x7f37543173d0>),\n",
       " ('prepare_database_save',\n",
       "  <function django.db.models.base.Model.prepare_database_save(self, field)>),\n",
       " ('price', <django.db.models.query_utils.DeferredAttribute at 0x7f373e1cb220>),\n",
       " ('publication_date',\n",
       "  <django.db.models.query_utils.DeferredAttribute at 0x7f373e1cb130>),\n",
       " ('refresh_from_db',\n",
       "  <function django.db.models.base.Model.refresh_from_db(self, using=None, fields=None)>),\n",
       " ('save',\n",
       "  <function django.db.models.base.Model.save(self, force_insert=False, force_update=False, using=None, update_fields=None)>),\n",
       " ('save_base',\n",
       "  <function django.db.models.base.Model.save_base(self, raw=False, force_insert=False, force_update=False, using=None, update_fields=None)>),\n",
       " ('serial_number',\n",
       "  <django.db.models.query_utils.DeferredAttribute at 0x7f373e1cb2b0>),\n",
       " ('serializable_value',\n",
       "  <function django.db.models.base.Model.serializable_value(self, field_name)>),\n",
       " ('title', <django.db.models.query_utils.DeferredAttribute at 0x7f373e1cb0d0>),\n",
       " ('unique_error_message',\n",
       "  <function django.db.models.base.Model.unique_error_message(self, model_class, unique_check)>),\n",
       " ('validate_constraints',\n",
       "  <function django.db.models.base.Model.validate_constraints(self, exclude=None)>),\n",
       " ('validate_unique',\n",
       "  <function django.db.models.base.Model.validate_unique(self, exclude=None)>)]"
      ]
     },
     "execution_count": 77,
     "metadata": {},
     "output_type": "execute_result"
    }
   ],
   "source": [
    "inspect.getmembers(Book)"
   ]
  }
 ],
 "metadata": {
  "kernelspec": {
   "display_name": "Django Shell-Plus",
   "language": "python",
   "name": "django_extensions"
  },
  "language_info": {
   "codemirror_mode": {
    "name": "ipython",
    "version": 3
   },
   "file_extension": ".py",
   "mimetype": "text/x-python",
   "name": "python",
   "nbconvert_exporter": "python",
   "pygments_lexer": "ipython3",
   "version": "3.9.5"
  }
 },
 "nbformat": 4,
 "nbformat_minor": 5
}
