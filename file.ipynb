{
 "cells": [
  {
   "cell_type": "code",
   "execution_count": 3,
   "id": "83fdb524-a9de-4808-bcde-4c90c70e9936",
   "metadata": {},
   "outputs": [],
   "source": [
    "# import nest_asyncio\n",
    "# nest_asyncio.apply()\n",
    "import os\n",
    "import django\n",
    "import inspect\n",
    "\n",
    "os.environ.setdefault('DJANGO_SETTINGS_MODULE', 'rest.settings')\n",
    "os.environ[\"DJANGO_ALLOW_ASYNC_UNSAFE\"] = \"true\"\n",
    "django.setup()\n",
    "\n",
    "from books.models import Book\n",
    "from blog.models import Post\n",
    "from books import utils\n",
    "\n",
    "from asgiref.sync import sync_to_async\n",
    "from django.shortcuts import get_object_or_404\n",
    "from django.http import HttpRequest"
   ]
  },
  {
   "cell_type": "code",
   "execution_count": 6,
   "id": "c2580421-afe3-42a6-ab9c-e2c98dc8e8f5",
   "metadata": {},
   "outputs": [
    {
     "data": {
      "text/plain": [
       "'guMWwWPOBTioJRIYVimKABYhpDDktxOH'"
      ]
     },
     "execution_count": 6,
     "metadata": {},
     "output_type": "execute_result"
    }
   ],
   "source": [
    "from model_bakery import baker\n",
    "from books.models import *\n",
    "from books import models\n",
    "clss = [i[1] for i in inspect.getmembers(models, inspect.isclass)]\n",
    "clss\n",
    "# for i in clss:\n",
    "#     baker.make(i, _quantity=200)\n",
    "Post.objects.first().title"
   ]
  },
  {
   "cell_type": "code",
   "execution_count": 7,
   "id": "3c80d1b0-9740-45ce-88ed-7287886eb361",
   "metadata": {},
   "outputs": [
    {
     "data": {
      "text/plain": [
       "{'_state': <django.db.models.base.ModelState at 0x7f0643120c10>,\n",
       " 'address_id': 606,\n",
       " 'address': 'zGUdSHPuxrxirMaGlvoQxiNNdwJiHkhxWmsDbRNumdkauPugGz',\n",
       " 'address2': None,\n",
       " 'district': 'rIKUgZgtZXIhEjevocfh',\n",
       " 'city_id': 601,\n",
       " 'postal_code': None,\n",
       " 'phone': 'mZuPvtdUTbkkzGarzSCO',\n",
       " 'last_update': datetime.datetime(2023, 9, 25, 12, 33, 57, 995257)}"
      ]
     },
     "execution_count": 7,
     "metadata": {},
     "output_type": "execute_result"
    }
   ],
   "source": [
    "vars(clss[1].objects.all()[0])"
   ]
  },
  {
   "cell_type": "code",
   "execution_count": 7,
   "id": "460f7e72-48c1-4335-91fa-b2b578d06189",
   "metadata": {},
   "outputs": [
    {
     "data": {
      "text/plain": [
       "[]"
      ]
     },
     "execution_count": 7,
     "metadata": {},
     "output_type": "execute_result"
    }
   ],
   "source": [
    "b = Book.objects.raw(\"select * from books_book as t where title=$$%s$$\" % '11ef11b1d80aa8e0')\n",
    "# from django.core.serializers import serialize\n",
    "# serialize('json', b)\n"
   ]
  },
  {
   "cell_type": "code",
   "execution_count": null,
   "id": "6f11154c-848b-49e4-bee8-cc86effeafd2",
   "metadata": {},
   "outputs": [],
   "source": [
    "from books.utils import get_sql_searchparams\n",
    "get_sql_searchparams(Book, ['col1', 'col2'], 'plant')"
   ]
  }
 ],
 "metadata": {
  "kernelspec": {
   "display_name": "Django Shell-Plus",
   "language": "python",
   "name": "django_extensions"
  },
  "language_info": {
   "codemirror_mode": {
    "name": "ipython",
    "version": 3
   },
   "file_extension": ".py",
   "mimetype": "text/x-python",
   "name": "python",
   "nbconvert_exporter": "python",
   "pygments_lexer": "ipython3",
   "version": "3.10.12"
  }
 },
 "nbformat": 4,
 "nbformat_minor": 5
}
